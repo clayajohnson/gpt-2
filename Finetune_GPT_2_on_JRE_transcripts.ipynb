{
  "nbformat": 4,
  "nbformat_minor": 0,
  "metadata": {
    "colab": {
      "name": "Finetune GPT-2 on JRE transcripts",
      "provenance": [],
      "collapsed_sections": [],
      "authorship_tag": "ABX9TyOOmuMtxUnmbnKdaEOWHRvJ",
      "include_colab_link": true
    },
    "kernelspec": {
      "name": "python3",
      "display_name": "Python 3"
    },
    "accelerator": "GPU"
  },
  "cells": [
    {
      "cell_type": "markdown",
      "metadata": {
        "id": "view-in-github",
        "colab_type": "text"
      },
      "source": [
        "<a href=\"https://colab.research.google.com/github/clayajohnson/gpt-2/blob/interactive-feature/Finetune_GPT_2_on_JRE_transcripts.ipynb\" target=\"_parent\"><img src=\"https://colab.research.google.com/assets/colab-badge.svg\" alt=\"Open In Colab\"/></a>"
      ]
    },
    {
      "cell_type": "markdown",
      "metadata": {
        "id": "hd8JsUcWmdf8",
        "colab_type": "text"
      },
      "source": [
        "# Finetune GPT-2 on Joe Rogan Experience transcripts\n",
        "\n",
        "By [Clay Johnson](https://www.linkedin.com/in/clayajohnson/)\n",
        "\n",
        "*Last updated: July 17th, 2020*\n",
        "\n",
        "This colab notebook finetunes OpenAi's gpt-2 on transcripts from the Joe Rogan Experience podcast as part of the dialogue modelling transformer network project.\n",
        "\n",
        "For more info you can visit [DMTNet](https://github.com/clayajohnson/dialogue_modelling_transformer_network).\n",
        "\n",
        "Begin by copying this notebook to your Google Drive to keep it and save your changes. (File -> Save a Copy in Drive)"
      ]
    },
    {
      "cell_type": "markdown",
      "metadata": {
        "id": "a1vsRh7zWRVM",
        "colab_type": "text"
      },
      "source": [
        "## Setup\n",
        "\n",
        "In order to retrain the model, the workspace needs to be configured correctly with the appropriate resources and libraries.\n",
        "\n",
        "Steps:\n",
        "1. Clone my repo into the colab notebook\n",
        "2. Download the requirements\n",
        "3. Configure project compatible version of tensorflow and cuda support"
      ]
    },
    {
      "cell_type": "code",
      "metadata": {
        "id": "riVEKJ_MZ5hX",
        "colab_type": "code",
        "colab": {}
      },
      "source": [
        "# Clone the repo with modified training and running scripts\n",
        "!git clone -b interactive-feature https://github.com/clayajohnson/gpt-2.git"
      ],
      "execution_count": null,
      "outputs": []
    },
    {
      "cell_type": "code",
      "metadata": {
        "id": "ECSOrg_9RU2n",
        "colab_type": "code",
        "colab": {}
      },
      "source": [
        "# Move into gpt-2 folder\n",
        "%cd /content/gpt-2"
      ],
      "execution_count": null,
      "outputs": []
    },
    {
      "cell_type": "code",
      "metadata": {
        "id": "mBOpJTTo_aU5",
        "colab_type": "code",
        "colab": {}
      },
      "source": [
        "# Download contents of requirements.txt\n",
        "!pip3 install -r requirements.txt"
      ],
      "execution_count": null,
      "outputs": []
    },
    {
      "cell_type": "code",
      "metadata": {
        "id": "xapT_JtlRie2",
        "colab_type": "code",
        "colab": {}
      },
      "source": [
        "# Install the compatible version of tensorflow with GPU support\n",
        "!pip install tensorflow-gpu==1.15.0\n",
        "!pip install 'tensorflow-estimator<1.15.0rc0,>=1.14.0rc0' --force-reinstall"
      ],
      "execution_count": null,
      "outputs": []
    },
    {
      "cell_type": "code",
      "metadata": {
        "id": "ZpnEZMLRSMyx",
        "colab_type": "code",
        "colab": {}
      },
      "source": [
        "# Install compatible cuda support for project\n",
        "!wget https://developer.nvidia.com/compute/cuda/9.0/Prod/local_installers/cuda-repo-ubuntu1604-9-0-local_9.0.176-1_amd64-deb\n",
        "!dpkg -i cuda-repo-ubuntu1604-9-0-local_9.0.176-1_amd64-deb\n",
        "!apt-key add /var/cuda-repo-*/7fa2af80.pub\n",
        "!apt-get update\n",
        "!apt-get install cuda-9-0\n",
        "!export LD_LIBRARY_PATH=$LD_LIBRARY_PATH:/usr/local/cuda-9.0/lib64/"
      ],
      "execution_count": null,
      "outputs": []
    },
    {
      "cell_type": "code",
      "metadata": {
        "id": "OrHykbUqCu9O",
        "colab_type": "code",
        "colab": {}
      },
      "source": [
        "# Move into gpt-2 folder after restarting runtime\n",
        "%cd /content/gpt-2"
      ],
      "execution_count": null,
      "outputs": []
    },
    {
      "cell_type": "markdown",
      "metadata": {
        "id": "3L96aP_5Xkv6",
        "colab_type": "text"
      },
      "source": [
        "## Finetuning\n",
        "\n",
        "First, a model must be downloaded that will then be finetuned. This notebook uses the 345M parameter model but a smaller 117M parameter model is also available.\n",
        "\n",
        "Steps:\n",
        "1. Download the model\n",
        "2. Run the training script `train.py` for approximately 70 steps on the JRE dataset (probably need to adjust values for different datasets)\n",
        "3. Run the interactive script `interactive_conditional_samples.py` to test the conversational functionality of the model."
      ]
    },
    {
      "cell_type": "code",
      "metadata": {
        "id": "P-l4vFusbkzS",
        "colab_type": "code",
        "colab": {}
      },
      "source": [
        "# Download the 345 million parameter model\n",
        "!python3 download_model.py 345M"
      ],
      "execution_count": null,
      "outputs": []
    },
    {
      "cell_type": "code",
      "metadata": {
        "id": "Qf2m80RLcYGS",
        "colab_type": "code",
        "colab": {}
      },
      "source": [
        "# Run the training script on the JRE dataset (approx. 70 steps yields good results) go to \"Runtime > Interupt execution\" to stop training.\n",
        "!PYTHONPATH=src ./train.py --dataset jre_dataset.txt --model_name 345M --sample_every 10 --learning_rate 0.0001 --restore_from fresh"
      ],
      "execution_count": null,
      "outputs": []
    },
    {
      "cell_type": "code",
      "metadata": {
        "id": "iFImXoKrhBoA",
        "colab_type": "code",
        "colab": {}
      },
      "source": [
        "# Run the interactive script on the retrained model\n",
        "!PYTHONPATH=src ./src/interactive_conditional_samples.py --run_name run1"
      ],
      "execution_count": null,
      "outputs": []
    },
    {
      "cell_type": "markdown",
      "metadata": {
        "id": "5zAUfqH3Yuxz",
        "colab_type": "text"
      },
      "source": [
        "## Saving the model\n",
        "\n",
        "Once the model is suitably finetuned, save it to your gdrive. This is done by first mounting your google drive and then copying the checkpoint/run1 folder into a folder `/checkpoints` in your google drive. From here, the folder can be zipped and downloaded onto your local machine."
      ]
    },
    {
      "cell_type": "code",
      "metadata": {
        "id": "Xwty9bEtQizM",
        "colab_type": "code",
        "colab": {}
      },
      "source": [
        "# Once you have tested the retrained model and are happy with the results, save the model to your google drive\n",
        "from google.colab import drive\n",
        "drive.mount('/content/gdrive')\n",
        "%cp -r ./checkpoint/run1/ /content/gdrive/My\\ Drive/checkpoints"
      ],
      "execution_count": null,
      "outputs": []
    },
    {
      "cell_type": "markdown",
      "metadata": {
        "id": "j5yE1Xa4Zm0w",
        "colab_type": "text"
      },
      "source": [
        "# LICENSE\n",
        "\n",
        "MIT License\n",
        "\n",
        "Copyright (c) 2020 Clay Johnson\n",
        "\n",
        "Permission is hereby granted, free of charge, to any person obtaining a copy\n",
        "of this software and associated documentation files (the \"Software\"), to deal\n",
        "in the Software without restriction, including without limitation the rights\n",
        "to use, copy, modify, merge, publish, distribute, sublicense, and/or sell\n",
        "copies of the Software, and to permit persons to whom the Software is\n",
        "furnished to do so, subject to the following conditions:\n",
        "\n",
        "The above copyright notice and this permission notice shall be included in all\n",
        "copies or substantial portions of the Software.\n",
        "\n",
        "THE SOFTWARE IS PROVIDED \"AS IS\", WITHOUT WARRANTY OF ANY KIND, EXPRESS OR\n",
        "IMPLIED, INCLUDING BUT NOT LIMITED TO THE WARRANTIES OF MERCHANTABILITY,\n",
        "FITNESS FOR A PARTICULAR PURPOSE AND NONINFRINGEMENT. IN NO EVENT SHALL THE\n",
        "AUTHORS OR COPYRIGHT HOLDERS BE LIABLE FOR ANY CLAIM, DAMAGES OR OTHER\n",
        "LIABILITY, WHETHER IN AN ACTION OF CONTRACT, TORT OR OTHERWISE, ARISING FROM,\n",
        "OUT OF OR IN CONNECTION WITH THE SOFTWARE OR THE USE OR OTHER DEALINGS IN THE\n",
        "SOFTWARE."
      ]
    }
  ]
}